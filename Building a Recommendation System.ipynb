{
 "cells": [
  {
   "attachments": {},
   "cell_type": "markdown",
   "metadata": {},
   "source": [
    "## Building a Recommendation Engine with Collaborative Filtering\n",
    "\n",
    "### What is Collaborative Filtering ?\n",
    "\n",
    "Collaborative filtering is the most common technique to **give better recommendations** as more information about users is collected.Most websites like Amazon, YouTube, and Netflix use collaborative filtering as a part of their sophisticated recommendation systems.\n",
    "\n",
    "### How does it work ?\n",
    "\n",
    "It works by searching a large group of people and **finding a smaller set of users with tastes similar to a particular user**. It looks at the **items they like and combines them to create a ranked list of suggestions**.\n",
    "\n",
    "### What are the different types of Collaborative Filtering ?\n",
    "\n",
    "There are two types of Collaborative Filtering :\n",
    "\n",
    "**`User-Based`** \n",
    "\n",
    "The technique where the rating matrix is used to **find similar users based on the ratings** they give, is called user-based or user-user collaborative filtering. \n",
    "\n",
    "**`Item-Based Collaborative Filtering`**\n",
    "\n",
    "Using the rating matrix to **find similar items based on the ratings** given to them by users is called item-based or item-item collaborative filtering.\n",
    "\n",
    "### What are the steps involved in Collaborative Filtering ?\n",
    "\n",
    "To recommend items to users based on the preferences of other users , there are two steps :- \n",
    "\n",
    "**1. Find similar users or items to the concerned user/item.**  \n",
    "\n",
    "**2. Predict the ratings of the items that are not yet rated by a user.**\n",
    "\n",
    "\n",
    "### Key Questions \n",
    "\n",
    "1.How do we determine **which users or items are similar** to one another?  \n",
    "\n",
    "2.Given that we know which users are similar, how to determine the **rating that a user would give to an item based on the ratings of similar users**?\n",
    "\n",
    "These questions are answered in the later sections.\n",
    "\n",
    "**Note :** The similarity is not calculated using factors like the age of users, genre of the movie, or any other data about users or items. It is calculated only on the basis of the rating (explicit or implicit) a user gives to an item.\n",
    "\n",
    "### Importing the required libraries"
   ]
  },
  {
   "cell_type": "code",
   "execution_count": 1,
   "metadata": {},
   "outputs": [],
   "source": [
    "# Basic libraries\n",
    "import io\n",
    "import math\n",
    "import itertools\n",
    "import pandas as pd\n",
    "import tqdm.notebook\n",
    "\n",
    "# Surprise is a Python SciKit that comes with various recommender algorithms\n",
    "# and similarity metrics to make it easy to build and analyze recommenders.\n",
    "from surprise import Dataset\n",
    "from surprise import Reader\n",
    "from surprise import get_dataset_dir\n",
    "from surprise import SVD\n",
    "from surprise import KNNWithMeans\n",
    "from surprise.model_selection import GridSearchCV"
   ]
  },
  {
   "cell_type": "markdown",
   "metadata": {},
   "source": [
    "### Building a sample dataframe"
   ]
  },
  {
   "cell_type": "code",
   "execution_count": 2,
   "metadata": {},
   "outputs": [
    {
     "data": {
      "text/html": [
       "<div>\n",
       "<style scoped>\n",
       "    .dataframe tbody tr th:only-of-type {\n",
       "        vertical-align: middle;\n",
       "    }\n",
       "\n",
       "    .dataframe tbody tr th {\n",
       "        vertical-align: top;\n",
       "    }\n",
       "\n",
       "    .dataframe thead th {\n",
       "        text-align: right;\n",
       "    }\n",
       "</style>\n",
       "<table border=\"1\" class=\"dataframe\">\n",
       "  <thead>\n",
       "    <tr style=\"text-align: right;\">\n",
       "      <th></th>\n",
       "      <th>user</th>\n",
       "      <th>item</th>\n",
       "      <th>rating</th>\n",
       "    </tr>\n",
       "  </thead>\n",
       "  <tbody>\n",
       "    <tr>\n",
       "      <th>0</th>\n",
       "      <td>A</td>\n",
       "      <td>1</td>\n",
       "      <td>1.0</td>\n",
       "    </tr>\n",
       "    <tr>\n",
       "      <th>1</th>\n",
       "      <td>A</td>\n",
       "      <td>2</td>\n",
       "      <td>2.0</td>\n",
       "    </tr>\n",
       "    <tr>\n",
       "      <th>2</th>\n",
       "      <td>B</td>\n",
       "      <td>1</td>\n",
       "      <td>2.0</td>\n",
       "    </tr>\n",
       "    <tr>\n",
       "      <th>3</th>\n",
       "      <td>B</td>\n",
       "      <td>2</td>\n",
       "      <td>4.0</td>\n",
       "    </tr>\n",
       "    <tr>\n",
       "      <th>4</th>\n",
       "      <td>C</td>\n",
       "      <td>1</td>\n",
       "      <td>2.5</td>\n",
       "    </tr>\n",
       "    <tr>\n",
       "      <th>5</th>\n",
       "      <td>C</td>\n",
       "      <td>2</td>\n",
       "      <td>4.0</td>\n",
       "    </tr>\n",
       "    <tr>\n",
       "      <th>6</th>\n",
       "      <td>D</td>\n",
       "      <td>1</td>\n",
       "      <td>4.5</td>\n",
       "    </tr>\n",
       "    <tr>\n",
       "      <th>7</th>\n",
       "      <td>D</td>\n",
       "      <td>2</td>\n",
       "      <td>5.0</td>\n",
       "    </tr>\n",
       "    <tr>\n",
       "      <th>8</th>\n",
       "      <td>E</td>\n",
       "      <td>1</td>\n",
       "      <td>3.0</td>\n",
       "    </tr>\n",
       "  </tbody>\n",
       "</table>\n",
       "</div>"
      ],
      "text/plain": [
       "  user  item  rating\n",
       "0    A     1     1.0\n",
       "1    A     2     2.0\n",
       "2    B     1     2.0\n",
       "3    B     2     4.0\n",
       "4    C     1     2.5\n",
       "5    C     2     4.0\n",
       "6    D     1     4.5\n",
       "7    D     2     5.0\n",
       "8    E     1     3.0"
      ]
     },
     "execution_count": 2,
     "metadata": {},
     "output_type": "execute_result"
    }
   ],
   "source": [
    "# Creating a dictionary of user , item and ratings\n",
    "ratings_dict = {\"user\": ['A', 'A', 'B', 'B', 'C', 'C', 'D', 'D', 'E'],\n",
    "                \"item\": [1, 2, 1, 2, 1, 2, 1, 2, 1],\n",
    "                \"rating\": [1, 2, 2, 4, 2.5, 4, 4.5, 5, 3]}\n",
    "\n",
    "# Building a dataframe using the dictionary ratings_dict\n",
    "df = pd.DataFrame(ratings_dict)\n",
    "\n",
    "# Inspecting the dataframe\n",
    "df"
   ]
  },
  {
   "cell_type": "markdown",
   "metadata": {},
   "source": [
    "Goal is to to to **determine the rating that user E would give to an item 2 based on the ratings of similar users**. If the rating predicted is high we can recommend that movie to E.  "
   ]
  },
  {
   "cell_type": "markdown",
   "metadata": {},
   "source": [
    "### Surprise Modules and Classes"
   ]
  },
  {
   "cell_type": "code",
   "execution_count": 3,
   "metadata": {},
   "outputs": [],
   "source": [
    "# Reader class is used to parse a file containing ratings.\n",
    "reader = Reader()\n",
    "\n",
    "# Loading Pandas dataframe\n",
    "data = Dataset.load_from_df(df , reader)\n",
    "\n",
    "# Building the training set\n",
    "trainingSet = data.build_full_trainset()"
   ]
  },
  {
   "cell_type": "markdown",
   "metadata": {},
   "source": [
    "### Collaborative filtering : Memory Based Approach\n",
    "\n",
    "Objective : To find the **rating R that a user U would give to an item I**.\n",
    "\n",
    "#### Answering Key Questions :\n",
    "\n",
    "#### Q1 : Finding users similar to U who have rated the item I.\n",
    "\n",
    "User    |   Ratings  \n",
    "A       =   [1, 2]  \n",
    "B       =   [2,4]  \n",
    "C       =   [2.5, 4]  \n",
    "D       =   [4.5, 5]  \n",
    "\n",
    "a) **Euclidean Distance**\n",
    "\n",
    "Find the distance between two points where each point represents a user and is plotted against the ratings they gave to two movies.Less the distance,more the similarity.\n",
    "\n",
    "`Issue with Euclidean Distance` :  \n",
    "\n",
    "**Not able to detect patterns** : After computing the distance , one would say that C is closer to D in terms of distance. But looking at the rankings, it would seem that the choices of C would align with that of A more than D because both A and C like the second movie almost twice as much as they like the first movie, but D likes both of the movies equally. \n",
    "\n",
    "b) **Cosine Similarity**\n",
    "\n",
    "Consider the angle between the lines joining the origin to the respective points.\n",
    "\n",
    "Lower Angle --> Smaller Distance --> Higher Similarity   \n",
    "Higher Angle --> Higher Distance --> Lower Similarity\n",
    "\n",
    "*`Why using cos(Angle)?`*\n",
    "\n",
    "Because for lower angles cos gives high values (close to 1) and for higher angles (close to 0).\n",
    "\n",
    "`Issue with Simple Cosine` :\n",
    "\n",
    "After computing cosine values , **Users A and B are absolutely similar in the cosine similarity metric despite having different ratings** despite A being a tough rater and B being a average rater.\n",
    "\n",
    "`Soln` : \n",
    "\n",
    "To factor in such individual user preferences, we will bring **all users to the same level by removing their biases** by subtracting the average rating given by that user to all items from each item rated by that user. Ex :- For user A, the rating vector [1, 2] has the average 1.5. Subtracting 1.5 from every rating would give you the vector [-0.5, 0.5].\n",
    "\n",
    "**The cosine of the angle between the adjusted vectors is called centered cosine**. This approach is normally used when there are a lot of missing values in the vectors.\n",
    "\n",
    "#### Q2 : Calculating the rating R based the ratings of similar users.\n",
    "\n",
    "a) **Simple average approach**\n",
    "\n",
    "We predict a user’s rating R for an item I by **taking average of the ratings given to I by the top 5 or top 10 users most similar to U.**\n",
    "\n",
    "`Issue with simple average` : Simple average performs poorly when **there are n similar users that are not equally similar to the target user U.**   \n",
    "Ex : The top 3 of them might be very similar, and the rest might not be as similar to U as the top 3.\n",
    "\n",
    "b) **Weighted average approach**\n",
    "\n",
    "We multiply each rating by a similarity factor(which tells how similar the users are). The similarity factor, which would act as weights, is the inverse of the distance (less distance implies higher similarity).With a weighted average, we give more consideration to the ratings of similar users in order of their similarity.\n",
    "\n",
    "#### Implementing collaborative filtering algorithm in Surprise with KNNWithMeans."
   ]
  },
  {
   "cell_type": "code",
   "execution_count": 4,
   "metadata": {},
   "outputs": [
    {
     "name": "stdout",
     "output_type": "stream",
     "text": [
      "Computing the cosine similarity matrix...\n",
      "Done computing similarity matrix.\n"
     ]
    },
    {
     "data": {
      "text/plain": [
       "3.625"
      ]
     },
     "execution_count": 4,
     "metadata": {},
     "output_type": "execute_result"
    }
   ],
   "source": [
    "# Using user-based cosine similarity\n",
    "similarity_options = {\"name\": \"cosine\",\"user_based\": True} \n",
    "\n",
    "# Instantiation of the KNNWithMeans collaborative filtering algorithm \n",
    "# It takes into account the mean ratings of each user.\n",
    "algo = KNNWithMeans(sim_options=similarity_options)\n",
    "\n",
    "# Fitting the training dataset\n",
    "algo.fit(trainingSet)\n",
    "\n",
    "# Predicting the rating user E would give to movie 2\n",
    "prediction = algo.predict('E', 2)\n",
    "prediction.est"
   ]
  },
  {
   "cell_type": "markdown",
   "metadata": {},
   "source": [
    "### Collaborative Filtering : Model Based Approach\n",
    "\n",
    "This approach involves a step **to reduce or compress the large but sparse user-item matrix** as reducing dimensions can improve the performance of the algorithm in terms of both space and time.\n",
    "\n",
    "**Dimensionality reduction using Matrix Vectorization** \n",
    "\n",
    "In the case of matrices, a matrix A with dimensions m x n can be reduced to a product of two matrices X and Y with dimensions m x p and p x n respectively.**The reduced matrices actually represent the users and items individually.** The m rows in the first matrix represent the m users, the p columns tells about the characteristics of the users and n columns represent the n items.\n",
    "\n",
    "Consider a rating of 4 given by user C for movie 2.The rating 4 is reduced or factorized into:\n",
    "\n",
    "**1. An user vector** (2, -1)  \n",
    "**2. An item vector** (2.5, 1)\n",
    "\n",
    "The user vector (2, -1) might represent a user C who likes horror movies and rates them positively and dislikes movies that have romance and rates them negatively.The movie 2 has a Horror rating of 2.5 and a Romance rating of 1. Multiplying it by the user vector using matrix multiplication rules gives us (2 * 2.5) + (-1 * 1) = 4.\n",
    "\n",
    "**The columns(=p) in the user matrix and the rows (=p) in the item matrix are called latent factors** and are an indication of hidden characteristics about the users or the items.In the above example, we had two latent factors for movie genres.\n",
    "\n",
    "One of the **popular algorithms to factorize a matrix is the singular value decomposition (SVD) algorithm.**"
   ]
  },
  {
   "cell_type": "code",
   "execution_count": 5,
   "metadata": {},
   "outputs": [
    {
     "data": {
      "text/plain": [
       "3.2426775971032864"
      ]
     },
     "execution_count": 5,
     "metadata": {},
     "output_type": "execute_result"
    }
   ],
   "source": [
    "# Instantiation of Singular value decomposition algorithm \n",
    "algo = SVD(n_epochs = 10, lr_all = 0.005, reg_all = 0.4)\n",
    "\n",
    "# Fitting the training dataset\n",
    "algo.fit(trainingSet)\n",
    "\n",
    "# Predicting the rating user E would give to movie 2\n",
    "prediction = algo.predict('E', 2)\n",
    "prediction.est"
   ]
  },
  {
   "cell_type": "markdown",
   "metadata": {},
   "source": [
    "# Recommendation on MovieLens Dataset"
   ]
  },
  {
   "cell_type": "code",
   "execution_count": 6,
   "metadata": {},
   "outputs": [],
   "source": [
    "# Loading the builtin Movielens-100k data\n",
    "movielens = Dataset.load_builtin('ml-100k')"
   ]
  },
  {
   "cell_type": "code",
   "execution_count": 7,
   "metadata": {},
   "outputs": [],
   "source": [
    "# Creating a dataframe from the movielens dataset\n",
    "movielens_df = pd.DataFrame(movielens.raw_ratings , columns = ['User_ID' , 'Movie_ID' , 'Ratings' , 'Timestamp'])"
   ]
  },
  {
   "cell_type": "code",
   "execution_count": 8,
   "metadata": {},
   "outputs": [
    {
     "data": {
      "text/html": [
       "<div>\n",
       "<style scoped>\n",
       "    .dataframe tbody tr th:only-of-type {\n",
       "        vertical-align: middle;\n",
       "    }\n",
       "\n",
       "    .dataframe tbody tr th {\n",
       "        vertical-align: top;\n",
       "    }\n",
       "\n",
       "    .dataframe thead th {\n",
       "        text-align: right;\n",
       "    }\n",
       "</style>\n",
       "<table border=\"1\" class=\"dataframe\">\n",
       "  <thead>\n",
       "    <tr style=\"text-align: right;\">\n",
       "      <th></th>\n",
       "      <th>User_ID</th>\n",
       "      <th>Movie_ID</th>\n",
       "      <th>Ratings</th>\n",
       "      <th>Timestamp</th>\n",
       "    </tr>\n",
       "  </thead>\n",
       "  <tbody>\n",
       "    <tr>\n",
       "      <th>0</th>\n",
       "      <td>196</td>\n",
       "      <td>242</td>\n",
       "      <td>3.0</td>\n",
       "      <td>881250949</td>\n",
       "    </tr>\n",
       "    <tr>\n",
       "      <th>1</th>\n",
       "      <td>186</td>\n",
       "      <td>302</td>\n",
       "      <td>3.0</td>\n",
       "      <td>891717742</td>\n",
       "    </tr>\n",
       "    <tr>\n",
       "      <th>2</th>\n",
       "      <td>22</td>\n",
       "      <td>377</td>\n",
       "      <td>1.0</td>\n",
       "      <td>878887116</td>\n",
       "    </tr>\n",
       "    <tr>\n",
       "      <th>3</th>\n",
       "      <td>244</td>\n",
       "      <td>51</td>\n",
       "      <td>2.0</td>\n",
       "      <td>880606923</td>\n",
       "    </tr>\n",
       "    <tr>\n",
       "      <th>4</th>\n",
       "      <td>166</td>\n",
       "      <td>346</td>\n",
       "      <td>1.0</td>\n",
       "      <td>886397596</td>\n",
       "    </tr>\n",
       "  </tbody>\n",
       "</table>\n",
       "</div>"
      ],
      "text/plain": [
       "  User_ID Movie_ID  Ratings  Timestamp\n",
       "0     196      242      3.0  881250949\n",
       "1     186      302      3.0  891717742\n",
       "2      22      377      1.0  878887116\n",
       "3     244       51      2.0  880606923\n",
       "4     166      346      1.0  886397596"
      ]
     },
     "execution_count": 8,
     "metadata": {},
     "output_type": "execute_result"
    }
   ],
   "source": [
    "# Inspecting the movielens DataFrame\n",
    "movielens_df.head()"
   ]
  },
  {
   "cell_type": "code",
   "execution_count": 9,
   "metadata": {},
   "outputs": [],
   "source": [
    "# Checking the no of unique movies in the dataset\n",
    "unique_movies_list = list(movielens_df['Movie_ID'].unique())"
   ]
  },
  {
   "cell_type": "code",
   "execution_count": 10,
   "metadata": {},
   "outputs": [],
   "source": [
    "# Checking the no of unique users in the dataset\n",
    "unique_userid_list = list(movielens_df['User_ID'].unique())"
   ]
  },
  {
   "cell_type": "markdown",
   "metadata": {},
   "source": [
    "### Collaborative Filtering Using Memory Based Approach"
   ]
  },
  {
   "cell_type": "code",
   "execution_count": 11,
   "metadata": {},
   "outputs": [
    {
     "name": "stdout",
     "output_type": "stream",
     "text": [
      "Computing the msd similarity matrix...\n",
      "Done computing similarity matrix.\n",
      "Computing the msd similarity matrix...\n",
      "Done computing similarity matrix.\n",
      "Computing the msd similarity matrix...\n",
      "Done computing similarity matrix.\n",
      "Computing the msd similarity matrix...\n",
      "Done computing similarity matrix.\n",
      "Computing the msd similarity matrix...\n",
      "Done computing similarity matrix.\n",
      "Computing the msd similarity matrix...\n",
      "Done computing similarity matrix.\n",
      "Computing the msd similarity matrix...\n",
      "Done computing similarity matrix.\n",
      "Computing the msd similarity matrix...\n",
      "Done computing similarity matrix.\n",
      "Computing the msd similarity matrix...\n",
      "Done computing similarity matrix.\n",
      "Computing the msd similarity matrix...\n",
      "Done computing similarity matrix.\n",
      "Computing the msd similarity matrix...\n",
      "Done computing similarity matrix.\n",
      "Computing the msd similarity matrix...\n",
      "Done computing similarity matrix.\n",
      "Computing the msd similarity matrix...\n",
      "Done computing similarity matrix.\n",
      "Computing the msd similarity matrix...\n",
      "Done computing similarity matrix.\n",
      "Computing the msd similarity matrix...\n",
      "Done computing similarity matrix.\n",
      "Computing the msd similarity matrix...\n",
      "Done computing similarity matrix.\n",
      "Computing the msd similarity matrix...\n",
      "Done computing similarity matrix.\n",
      "Computing the msd similarity matrix...\n",
      "Done computing similarity matrix.\n",
      "Computing the cosine similarity matrix...\n",
      "Done computing similarity matrix.\n",
      "Computing the cosine similarity matrix...\n",
      "Done computing similarity matrix.\n",
      "Computing the cosine similarity matrix...\n",
      "Done computing similarity matrix.\n",
      "Computing the cosine similarity matrix...\n",
      "Done computing similarity matrix.\n",
      "Computing the cosine similarity matrix...\n",
      "Done computing similarity matrix.\n",
      "Computing the cosine similarity matrix...\n",
      "Done computing similarity matrix.\n",
      "Computing the cosine similarity matrix...\n",
      "Done computing similarity matrix.\n",
      "Computing the cosine similarity matrix...\n",
      "Done computing similarity matrix.\n",
      "Computing the cosine similarity matrix...\n",
      "Done computing similarity matrix.\n",
      "Computing the cosine similarity matrix...\n",
      "Done computing similarity matrix.\n",
      "Computing the cosine similarity matrix...\n",
      "Done computing similarity matrix.\n",
      "Computing the cosine similarity matrix...\n",
      "Done computing similarity matrix.\n",
      "Computing the cosine similarity matrix...\n",
      "Done computing similarity matrix.\n",
      "Computing the cosine similarity matrix...\n",
      "Done computing similarity matrix.\n",
      "Computing the cosine similarity matrix...\n",
      "Done computing similarity matrix.\n",
      "Computing the cosine similarity matrix...\n",
      "Done computing similarity matrix.\n",
      "Computing the cosine similarity matrix...\n",
      "Done computing similarity matrix.\n",
      "Computing the cosine similarity matrix...\n",
      "Done computing similarity matrix.\n"
     ]
    }
   ],
   "source": [
    "# Defining the list of parameters for grid search CV\n",
    "sim_options = {\"name\": [\"msd\", \"cosine\"],\"min_support\": [3, 4, 5],\"user_based\": [False, True]}\n",
    "param_grid = {\"sim_options\": sim_options}\n",
    "\n",
    "# Instantiation of Grid Search CV using the KNNWithMeans algorithm \n",
    "KNN_gs = GridSearchCV(KNNWithMeans, param_grid, measures=[\"rmse\", \"mae\"], cv=3)\n",
    "\n",
    "# Fitting the dataset to the KNN gridsearch object\n",
    "KNN_gs.fit(movielens)"
   ]
  },
  {
   "cell_type": "code",
   "execution_count": 12,
   "metadata": {},
   "outputs": [
    {
     "name": "stdout",
     "output_type": "stream",
     "text": [
      "0.942440409044676\n",
      "{'sim_options': {'name': 'msd', 'min_support': 3, 'user_based': False}}\n"
     ]
    }
   ],
   "source": [
    "# Prinitng the best RMSE score obtained\n",
    "print(KNN_gs.best_score[\"rmse\"])\n",
    "\n",
    "# Printing the list of optimal parameters \n",
    "print(KNN_gs.best_params[\"rmse\"])"
   ]
  },
  {
   "cell_type": "code",
   "execution_count": 13,
   "metadata": {},
   "outputs": [
    {
     "name": "stdout",
     "output_type": "stream",
     "text": [
      "Computing the msd similarity matrix...\n",
      "Done computing similarity matrix.\n",
      "user: 196        item: 242        r_ui = 3.00   est = 3.79   {'actual_k': 40, 'was_impossible': False}\n"
     ]
    },
    {
     "data": {
      "text/plain": [
       "Prediction(uid='196', iid='242', r_ui=3, est=3.7940502163439223, details={'actual_k': 40, 'was_impossible': False})"
      ]
     },
     "execution_count": 13,
     "metadata": {},
     "output_type": "execute_result"
    }
   ],
   "source": [
    "# Building the training set\n",
    "trainingSet = movielens.build_full_trainset()\n",
    "\n",
    "# Instantiation of KNNWithMeans algorithm with the optimal paramters \n",
    "# obtained from Grid Search Cross Validation\n",
    "KNN_algo = KNNWithMeans(name = KNN_gs.best_params[\"rmse\"]['sim_options']['name']\n",
    "                      , min_support = KNN_gs.best_params[\"rmse\"]['sim_options']['min_support']\n",
    "                      , user_based = KNN_gs.best_params[\"rmse\"]['sim_options']['user_based'])\n",
    "\n",
    "# Training the algorithm\n",
    "KNN_algo.fit(trainingSet)\n",
    "\n",
    "# Predicting the ratings for a particular user and movie \n",
    "KNN_algo.predict(str(196) , str(242) , r_ui=3, verbose=True)"
   ]
  },
  {
   "cell_type": "code",
   "execution_count": 14,
   "metadata": {},
   "outputs": [
    {
     "data": {
      "application/vnd.jupyter.widget-view+json": {
       "model_id": "5407a910d075480c930cf11a1198ce19",
       "version_major": 2,
       "version_minor": 0
      },
      "text/plain": [
       "HBox(children=(FloatProgress(value=0.0, description='outer_loop', max=100000.0, style=ProgressStyle(descriptio…"
      ]
     },
     "metadata": {},
     "output_type": "display_data"
    },
    {
     "name": "stdout",
     "output_type": "stream",
     "text": [
      "\n",
      "RMSE : 0.7727877044627107\n"
     ]
    }
   ],
   "source": [
    "# Checking the RMSE value on the fitted training set\n",
    "\n",
    "error_list = []\n",
    "\n",
    "trainset = trainingSet.build_testset()\n",
    "\n",
    "# Iterating over all the elements of training set\n",
    "for i in tqdm.notebook.tqdm(range(len(trainset)) , desc = 'outer_loop' , leave = True):\n",
    "    \n",
    "    # Computing the prediction for each combination of user and movie\n",
    "    prediction = KNN_algo.predict(trainset[i][0] , trainset[i][1])\n",
    "    \n",
    "    # Calculating the error between the actual and predicted value\n",
    "    error = pow(prediction.est - float(trainset[i][2]),2)\n",
    "    \n",
    "    # Storing each of the squared error value in a list\n",
    "    error_list.append(error)\n",
    "    \n",
    "# Printing the RMSE value after computing mean and taking the root of MSE     \n",
    "print(\"RMSE : {}\" .format(pow(sum(error_list)/len(error_list) , 1/2)))"
   ]
  },
  {
   "cell_type": "code",
   "execution_count": 15,
   "metadata": {},
   "outputs": [
    {
     "data": {
      "application/vnd.jupyter.widget-view+json": {
       "model_id": "fff3177afbd141b4b3ba90f6c0d91fc8",
       "version_major": 2,
       "version_minor": 0
      },
      "text/plain": [
       "HBox(children=(FloatProgress(value=0.0, description='outer_loop', max=943.0, style=ProgressStyle(description_w…"
      ]
     },
     "metadata": {},
     "output_type": "display_data"
    },
    {
     "name": "stdout",
     "output_type": "stream",
     "text": [
      "\n"
     ]
    }
   ],
   "source": [
    "movies_user_might_like = []\n",
    "\n",
    "# Iterating over the no of unique users for personalized recommendation\n",
    "for i in tqdm.notebook.tqdm(range(len(unique_userid_list)) , desc = 'outer_loop' , leave = True):\n",
    "    \n",
    "    # Determining for which movies the user has already provided the ratings\n",
    "    # Effectively determining which movies user has watched\n",
    "    movie_ratings_to_be_predicted = None\n",
    "    movies_watched_by_user = list(movielens_df[movielens_df['User_ID'] == unique_userid_list[i]]['Movie_ID'].unique())\n",
    "    \n",
    "    # Generating list of the movies that can be provided as a possible recommendation\n",
    "    movie_ratings_to_be_predicted = list(set(unique_movies_list) - set(movies_watched_by_user))\n",
    "    \n",
    "    # Looping through each of the movies that can be recommended\n",
    "    for j in range(len(movie_ratings_to_be_predicted)):\n",
    "        \n",
    "        # Getting the movie_id stored\n",
    "        movie_id , prediction = None , None\n",
    "        movie_id = movie_ratings_to_be_predicted[j]\n",
    "        \n",
    "        # Generation of the prediction for each combination of the user and movie\n",
    "        prediction = KNN_algo.predict(unique_userid_list[i] , movie_id).est\n",
    "        \n",
    "        # Storing the predicted rating for each combination of the user and movie in a list\n",
    "        movies_user_might_like.append([unique_userid_list[i] , movie_id , prediction])"
   ]
  },
  {
   "cell_type": "code",
   "execution_count": 16,
   "metadata": {},
   "outputs": [],
   "source": [
    "# Creating a dataframe sorted by Ratings and grouped by User ID to fetch the top 10 recommendation for an user\n",
    "\n",
    "columns = ['User_ID' , 'Reco_Movie_ID' , 'Predicted_Rating']\n",
    "KNN_recommended_movies_df = pd.DataFrame(movies_user_might_like , \n",
    "                                     columns = columns).sort_values(['User_ID' ,'Predicted_Rating'],\n",
    "                                     ascending=False).groupby('User_ID').head(10)"
   ]
  },
  {
   "cell_type": "code",
   "execution_count": 17,
   "metadata": {},
   "outputs": [
    {
     "data": {
      "text/plain": [
       "{'1': 'Toy Story (1995)',\n",
       " '2': 'GoldenEye (1995)',\n",
       " '3': 'Four Rooms (1995)',\n",
       " '4': 'Get Shorty (1995)',\n",
       " '5': 'Copycat (1995)'}"
      ]
     },
     "execution_count": 17,
     "metadata": {},
     "output_type": "execute_result"
    }
   ],
   "source": [
    "def read_item_names():\n",
    "    \"\"\"Reading the u.item file from MovieLens 100-k dataset \n",
    "    and returning a mapping to convert raw ids into movie names.\n",
    "    \"\"\"\n",
    "\n",
    "    file_name = get_dataset_dir() + '/ml-100k/ml-100k/u.item'     # Reading the u.item file from MovieLens 100-k dataset\n",
    "    rid_to_name = {}                                              # Creating a dictionary for mapping row id to movie name  \n",
    "    \n",
    "    with io.open(file_name, 'r', encoding='ISO-8859-1') as f:     # Opening the file in read mode\n",
    "        \n",
    "        for line in f:                                            # Iterating through each line\n",
    "            line = line.split('|')                                # Using pipe as delimiter\n",
    "            rid_to_name[line[0]] = line[1]                        # Mapping of row id and movie name\n",
    "\n",
    "    return rid_to_name\n",
    "\n",
    "# Read the mappings raw id <-> movie name\n",
    "rid_to_name = read_item_names()\n",
    "\n",
    "# Inspecting the created dictionary\n",
    "dict(itertools.islice(rid_to_name.items(), 5))"
   ]
  },
  {
   "cell_type": "code",
   "execution_count": 18,
   "metadata": {},
   "outputs": [
    {
     "data": {
      "text/html": [
       "<div>\n",
       "<style scoped>\n",
       "    .dataframe tbody tr th:only-of-type {\n",
       "        vertical-align: middle;\n",
       "    }\n",
       "\n",
       "    .dataframe tbody tr th {\n",
       "        vertical-align: top;\n",
       "    }\n",
       "\n",
       "    .dataframe thead th {\n",
       "        text-align: right;\n",
       "    }\n",
       "</style>\n",
       "<table border=\"1\" class=\"dataframe\">\n",
       "  <thead>\n",
       "    <tr style=\"text-align: right;\">\n",
       "      <th></th>\n",
       "      <th>User_ID</th>\n",
       "      <th>Reco_Movie_ID</th>\n",
       "      <th>Predicted_Rating</th>\n",
       "      <th>Movie_Name</th>\n",
       "    </tr>\n",
       "  </thead>\n",
       "  <tbody>\n",
       "    <tr>\n",
       "      <th>69583</th>\n",
       "      <td>99</td>\n",
       "      <td>1536</td>\n",
       "      <td>5.000000</td>\n",
       "      <td>Aiqing wansui (1994)</td>\n",
       "    </tr>\n",
       "    <tr>\n",
       "      <th>69592</th>\n",
       "      <td>99</td>\n",
       "      <td>814</td>\n",
       "      <td>5.000000</td>\n",
       "      <td>Great Day in Harlem, A (1994)</td>\n",
       "    </tr>\n",
       "    <tr>\n",
       "      <th>69593</th>\n",
       "      <td>99</td>\n",
       "      <td>1467</td>\n",
       "      <td>5.000000</td>\n",
       "      <td>Saint of Fort Washington, The (1993)</td>\n",
       "    </tr>\n",
       "    <tr>\n",
       "      <th>68869</th>\n",
       "      <td>99</td>\n",
       "      <td>1500</td>\n",
       "      <td>4.981619</td>\n",
       "      <td>Santa with Muscles (1996)</td>\n",
       "    </tr>\n",
       "    <tr>\n",
       "      <th>69819</th>\n",
       "      <td>99</td>\n",
       "      <td>1599</td>\n",
       "      <td>4.969722</td>\n",
       "      <td>Someone Else's America (1995)</td>\n",
       "    </tr>\n",
       "    <tr>\n",
       "      <th>...</th>\n",
       "      <td>...</td>\n",
       "      <td>...</td>\n",
       "      <td>...</td>\n",
       "      <td>...</td>\n",
       "    </tr>\n",
       "    <tr>\n",
       "      <th>178998</th>\n",
       "      <td>1</td>\n",
       "      <td>1642</td>\n",
       "      <td>4.918548</td>\n",
       "      <td>Some Mother's Son (1996)</td>\n",
       "    </tr>\n",
       "    <tr>\n",
       "      <th>178693</th>\n",
       "      <td>1</td>\n",
       "      <td>1653</td>\n",
       "      <td>4.904412</td>\n",
       "      <td>Entertaining Angels: The Dorothy Day Story (1996)</td>\n",
       "    </tr>\n",
       "    <tr>\n",
       "      <th>178590</th>\n",
       "      <td>1</td>\n",
       "      <td>1293</td>\n",
       "      <td>4.827150</td>\n",
       "      <td>Star Kid (1997)</td>\n",
       "    </tr>\n",
       "    <tr>\n",
       "      <th>178376</th>\n",
       "      <td>1</td>\n",
       "      <td>1449</td>\n",
       "      <td>4.803520</td>\n",
       "      <td>Pather Panchali (1955)</td>\n",
       "    </tr>\n",
       "    <tr>\n",
       "      <th>179369</th>\n",
       "      <td>1</td>\n",
       "      <td>1398</td>\n",
       "      <td>4.795197</td>\n",
       "      <td>Anna (1996)</td>\n",
       "    </tr>\n",
       "  </tbody>\n",
       "</table>\n",
       "<p>9430 rows × 4 columns</p>\n",
       "</div>"
      ],
      "text/plain": [
       "       User_ID Reco_Movie_ID  Predicted_Rating  \\\n",
       "69583       99          1536          5.000000   \n",
       "69592       99           814          5.000000   \n",
       "69593       99          1467          5.000000   \n",
       "68869       99          1500          4.981619   \n",
       "69819       99          1599          4.969722   \n",
       "...        ...           ...               ...   \n",
       "178998       1          1642          4.918548   \n",
       "178693       1          1653          4.904412   \n",
       "178590       1          1293          4.827150   \n",
       "178376       1          1449          4.803520   \n",
       "179369       1          1398          4.795197   \n",
       "\n",
       "                                               Movie_Name  \n",
       "69583                                Aiqing wansui (1994)  \n",
       "69592                       Great Day in Harlem, A (1994)  \n",
       "69593                Saint of Fort Washington, The (1993)  \n",
       "68869                           Santa with Muscles (1996)  \n",
       "69819                       Someone Else's America (1995)  \n",
       "...                                                   ...  \n",
       "178998                           Some Mother's Son (1996)  \n",
       "178693  Entertaining Angels: The Dorothy Day Story (1996)  \n",
       "178590                                    Star Kid (1997)  \n",
       "178376                             Pather Panchali (1955)  \n",
       "179369                                        Anna (1996)  \n",
       "\n",
       "[9430 rows x 4 columns]"
      ]
     },
     "execution_count": 18,
     "metadata": {},
     "output_type": "execute_result"
    }
   ],
   "source": [
    "# Adding a column containing the movie names\n",
    "KNN_recommended_movies_df['Movie_Name'] = KNN_recommended_movies_df['Reco_Movie_ID'].apply(lambda x : rid_to_name[x])\n",
    "\n",
    "# Inspecting the DataFrame\n",
    "KNN_recommended_movies_df"
   ]
  },
  {
   "cell_type": "code",
   "execution_count": 19,
   "metadata": {},
   "outputs": [
    {
     "data": {
      "text/plain": [
       "69583                                 Aiqing wansui (1994)\n",
       "69592                        Great Day in Harlem, A (1994)\n",
       "69593                 Saint of Fort Washington, The (1993)\n",
       "68869                            Santa with Muscles (1996)\n",
       "69819                        Someone Else's America (1995)\n",
       "69360    Entertaining Angels: The Dorothy Day Story (1996)\n",
       "69699                             Some Mother's Son (1996)\n",
       "69020                               Pather Panchali (1955)\n",
       "69250                                      Star Kid (1997)\n",
       "70105                                          Anna (1996)\n",
       "Name: Movie_Name, dtype: object"
      ]
     },
     "execution_count": 19,
     "metadata": {},
     "output_type": "execute_result"
    }
   ],
   "source": [
    "# Displaying what movies need to be recommended to the user with user ID 99\n",
    "KNN_recommended_movies_df[KNN_recommended_movies_df['User_ID'] == '99']['Movie_Name']"
   ]
  },
  {
   "cell_type": "code",
   "execution_count": 20,
   "metadata": {},
   "outputs": [
    {
     "data": {
      "text/plain": [
       "44374                               Titanic (1997)\n",
       "6647                                Contact (1997)\n",
       "41742    Indiana Jones and the Last Crusade (1989)\n",
       "12800                   Usual Suspects, The (1995)\n",
       "7502                          Seven (Se7en) (1995)\n",
       "8781                           Pulp Fiction (1994)\n",
       "9910                                  Fargo (1996)\n",
       "9294                          Jerry Maguire (1996)\n",
       "56992                         Dumb & Dumber (1994)\n",
       "48                               Get Shorty (1995)\n",
       "Name: Movie_ID, dtype: object"
      ]
     },
     "execution_count": 20,
     "metadata": {},
     "output_type": "execute_result"
    }
   ],
   "source": [
    "# Displaying the highest rated 10 movies by user with user ID 99 \n",
    "movielens_df[movielens_df['User_ID'] == '99'].sort_values('Ratings').tail(10)['Movie_ID'].apply(lambda x : rid_to_name[x])"
   ]
  },
  {
   "cell_type": "markdown",
   "metadata": {},
   "source": [
    "### Collaborative Filtering Using Model Based Approach"
   ]
  },
  {
   "cell_type": "code",
   "execution_count": 21,
   "metadata": {},
   "outputs": [],
   "source": [
    "# Defining the list of parameters for grid search CV\n",
    "param_grid = {\"n_epochs\": [5, 10],\"lr_all\": [0.002, 0.005],\"reg_all\": [0.4, 0.6]}\n",
    "\n",
    "# Instantiation of Grid Search CV using the SVD algorithm \n",
    "svd_gs = GridSearchCV(SVD, param_grid, measures=[\"rmse\", \"mae\"], cv=3)\n",
    "\n",
    "# Fitting the dataset to the SVD gridsearch object\n",
    "svd_gs.fit(movielens)"
   ]
  },
  {
   "cell_type": "code",
   "execution_count": 22,
   "metadata": {},
   "outputs": [
    {
     "name": "stdout",
     "output_type": "stream",
     "text": [
      "0.9638533289206802\n",
      "{'n_epochs': 10, 'lr_all': 0.005, 'reg_all': 0.4}\n"
     ]
    }
   ],
   "source": [
    "# Prinitng the best RMSE score obtained\n",
    "print(svd_gs.best_score[\"rmse\"])\n",
    "\n",
    "# Printing the list of optimal parameters \n",
    "print(svd_gs.best_params[\"rmse\"])"
   ]
  },
  {
   "cell_type": "code",
   "execution_count": 23,
   "metadata": {},
   "outputs": [
    {
     "name": "stdout",
     "output_type": "stream",
     "text": [
      "user: 196        item: 242        r_ui = 3.00   est = 3.88   {'was_impossible': False}\n"
     ]
    },
    {
     "data": {
      "text/plain": [
       "Prediction(uid='196', iid='242', r_ui=3, est=3.8783265036054058, details={'was_impossible': False})"
      ]
     },
     "execution_count": 23,
     "metadata": {},
     "output_type": "execute_result"
    }
   ],
   "source": [
    "# Instantiation of SVD algorithm with the optimal paramters \n",
    "# obtained from Grid Search Cross Validation\n",
    "svd_algo = SVD(n_epochs = svd_gs.best_params[\"rmse\"]['n_epochs']\n",
    "               , lr_all = svd_gs.best_params[\"rmse\"]['lr_all'], \n",
    "               reg_all = svd_gs.best_params[\"rmse\"]['reg_all'])\n",
    "\n",
    "# Training the algorithm\n",
    "svd_algo.fit(trainingSet)\n",
    "\n",
    "# Predicting the ratings for a particular user and movie\n",
    "svd_algo.predict(str(196) , str(242) , r_ui=3, verbose=True)"
   ]
  },
  {
   "cell_type": "code",
   "execution_count": 24,
   "metadata": {},
   "outputs": [
    {
     "data": {
      "application/vnd.jupyter.widget-view+json": {
       "model_id": "64e34b490cea40689b4b7e0ad3d205d5",
       "version_major": 2,
       "version_minor": 0
      },
      "text/plain": [
       "HBox(children=(FloatProgress(value=0.0, description='outer_loop', max=100000.0, style=ProgressStyle(descriptio…"
      ]
     },
     "metadata": {},
     "output_type": "display_data"
    },
    {
     "name": "stdout",
     "output_type": "stream",
     "text": [
      "\n",
      "RMSE : 0.940126969280675\n"
     ]
    }
   ],
   "source": [
    "# Checking the RMSE value on the fitted training set\n",
    "trainset = trainingSet.build_testset()\n",
    "\n",
    "error_list = []\n",
    "\n",
    "# Iterating over all the elements of training set\n",
    "for i in tqdm.notebook.tqdm(range(len(trainset)) , desc = 'outer_loop' , leave = True):\n",
    "    \n",
    "    # Computing the prediction for each combination of user and movie\n",
    "    prediction = svd_algo.predict(trainset[i][0] , trainset[i][1])\n",
    "    \n",
    "    # Calculating the error between the actual and predicted value\n",
    "    error = pow(prediction.est - float(trainset[i][2]),2)\n",
    "    \n",
    "    # Storing each of the squared error value in a list\n",
    "    error_list.append(error)\n",
    "    \n",
    "# Printing the RMSE value after computing mean and taking the root of MSE\n",
    "print(\"RMSE : {}\" .format(pow(sum(error_list)/len(error_list) , 1/2)))"
   ]
  },
  {
   "cell_type": "code",
   "execution_count": 25,
   "metadata": {},
   "outputs": [
    {
     "data": {
      "application/vnd.jupyter.widget-view+json": {
       "model_id": "e2f3975792bb43bb880127fbeca3f183",
       "version_major": 2,
       "version_minor": 0
      },
      "text/plain": [
       "HBox(children=(FloatProgress(value=0.0, description='outer_loop', max=943.0, style=ProgressStyle(description_w…"
      ]
     },
     "metadata": {},
     "output_type": "display_data"
    },
    {
     "name": "stdout",
     "output_type": "stream",
     "text": [
      "\n"
     ]
    }
   ],
   "source": [
    "movies_user_might_like = []\n",
    "\n",
    "# Iterating over the no of unique users for personalized recommendation\n",
    "for i in tqdm.notebook.tqdm(range(len(unique_userid_list)) , desc = 'outer_loop' , leave = True):\n",
    "    \n",
    "    # Determining for which movies the user has already provided the ratings\n",
    "    # Effectively , determining which movies user has watched\n",
    "    movie_ratings_to_be_predicted = None\n",
    "    movies_watched_by_user = list(movielens_df[movielens_df['User_ID'] == unique_userid_list[i]]['Movie_ID'].unique())\n",
    "    \n",
    "    # Generating list of the movies that can be provided as a possible recommendation\n",
    "    movie_ratings_to_be_predicted = list(set(unique_movies_list) - set(movies_watched_by_user))\n",
    "    \n",
    "    # Looping through each of the movies that can be recommended\n",
    "    for j in range(len(movie_ratings_to_be_predicted)):\n",
    "        \n",
    "        # Getting the movie_id stored\n",
    "        movie_id , prediction = None , None\n",
    "        movie_id = movie_ratings_to_be_predicted[j]\n",
    "        \n",
    "        # Generation of the prediction for each combination of the user and movie\n",
    "        prediction = svd_algo.predict(unique_userid_list[i] , movie_id).est\n",
    "        \n",
    "        # Storing the predicted rating for each combination of the user and movie in a list\n",
    "        movies_user_might_like.append([unique_userid_list[i] , movie_id , prediction])"
   ]
  },
  {
   "cell_type": "code",
   "execution_count": 26,
   "metadata": {},
   "outputs": [],
   "source": [
    "# Creating a dataframe sorted by Ratings and grouped by User ID to fetch the top 10 recommendation for an user\n",
    "columns = ['User_ID' , 'Reco_Movie_ID' , 'Ratings']\n",
    "\n",
    "SVD_recommended_movies_df = pd.DataFrame(movies_user_might_like , \n",
    "                                     columns = columns).sort_values(['User_ID' , 'Ratings'],\n",
    "                                     ascending=False).groupby('User_ID').head(10)"
   ]
  },
  {
   "cell_type": "code",
   "execution_count": 27,
   "metadata": {},
   "outputs": [
    {
     "data": {
      "text/html": [
       "<div>\n",
       "<style scoped>\n",
       "    .dataframe tbody tr th:only-of-type {\n",
       "        vertical-align: middle;\n",
       "    }\n",
       "\n",
       "    .dataframe tbody tr th {\n",
       "        vertical-align: top;\n",
       "    }\n",
       "\n",
       "    .dataframe thead th {\n",
       "        text-align: right;\n",
       "    }\n",
       "</style>\n",
       "<table border=\"1\" class=\"dataframe\">\n",
       "  <thead>\n",
       "    <tr style=\"text-align: right;\">\n",
       "      <th></th>\n",
       "      <th>User_ID</th>\n",
       "      <th>Reco_Movie_ID</th>\n",
       "      <th>Ratings</th>\n",
       "      <th>Movie_Name</th>\n",
       "    </tr>\n",
       "  </thead>\n",
       "  <tbody>\n",
       "    <tr>\n",
       "      <th>68984</th>\n",
       "      <td>99</td>\n",
       "      <td>408</td>\n",
       "      <td>4.340664</td>\n",
       "      <td>Close Shave, A (1995)</td>\n",
       "    </tr>\n",
       "    <tr>\n",
       "      <th>70139</th>\n",
       "      <td>99</td>\n",
       "      <td>169</td>\n",
       "      <td>4.311156</td>\n",
       "      <td>Wrong Trousers, The (1993)</td>\n",
       "    </tr>\n",
       "    <tr>\n",
       "      <th>69571</th>\n",
       "      <td>99</td>\n",
       "      <td>318</td>\n",
       "      <td>4.302077</td>\n",
       "      <td>Schindler's List (1993)</td>\n",
       "    </tr>\n",
       "    <tr>\n",
       "      <th>69868</th>\n",
       "      <td>99</td>\n",
       "      <td>114</td>\n",
       "      <td>4.245307</td>\n",
       "      <td>Wallace &amp; Gromit: The Best of Aardman Animatio...</td>\n",
       "    </tr>\n",
       "    <tr>\n",
       "      <th>68716</th>\n",
       "      <td>99</td>\n",
       "      <td>483</td>\n",
       "      <td>4.244412</td>\n",
       "      <td>Casablanca (1942)</td>\n",
       "    </tr>\n",
       "    <tr>\n",
       "      <th>...</th>\n",
       "      <td>...</td>\n",
       "      <td>...</td>\n",
       "      <td>...</td>\n",
       "      <td>...</td>\n",
       "    </tr>\n",
       "    <tr>\n",
       "      <th>178352</th>\n",
       "      <td>1</td>\n",
       "      <td>480</td>\n",
       "      <td>4.143695</td>\n",
       "      <td>North by Northwest (1959)</td>\n",
       "    </tr>\n",
       "    <tr>\n",
       "      <th>179011</th>\n",
       "      <td>1</td>\n",
       "      <td>357</td>\n",
       "      <td>4.137720</td>\n",
       "      <td>One Flew Over the Cuckoo's Nest (1975)</td>\n",
       "    </tr>\n",
       "    <tr>\n",
       "      <th>178722</th>\n",
       "      <td>1</td>\n",
       "      <td>657</td>\n",
       "      <td>4.121488</td>\n",
       "      <td>Manchurian Candidate, The (1962)</td>\n",
       "    </tr>\n",
       "    <tr>\n",
       "      <th>178742</th>\n",
       "      <td>1</td>\n",
       "      <td>515</td>\n",
       "      <td>4.109809</td>\n",
       "      <td>Boot, Das (1981)</td>\n",
       "    </tr>\n",
       "    <tr>\n",
       "      <th>178091</th>\n",
       "      <td>1</td>\n",
       "      <td>285</td>\n",
       "      <td>4.104156</td>\n",
       "      <td>Secrets &amp; Lies (1996)</td>\n",
       "    </tr>\n",
       "  </tbody>\n",
       "</table>\n",
       "<p>9430 rows × 4 columns</p>\n",
       "</div>"
      ],
      "text/plain": [
       "       User_ID Reco_Movie_ID   Ratings  \\\n",
       "68984       99           408  4.340664   \n",
       "70139       99           169  4.311156   \n",
       "69571       99           318  4.302077   \n",
       "69868       99           114  4.245307   \n",
       "68716       99           483  4.244412   \n",
       "...        ...           ...       ...   \n",
       "178352       1           480  4.143695   \n",
       "179011       1           357  4.137720   \n",
       "178722       1           657  4.121488   \n",
       "178742       1           515  4.109809   \n",
       "178091       1           285  4.104156   \n",
       "\n",
       "                                               Movie_Name  \n",
       "68984                               Close Shave, A (1995)  \n",
       "70139                          Wrong Trousers, The (1993)  \n",
       "69571                             Schindler's List (1993)  \n",
       "69868   Wallace & Gromit: The Best of Aardman Animatio...  \n",
       "68716                                   Casablanca (1942)  \n",
       "...                                                   ...  \n",
       "178352                          North by Northwest (1959)  \n",
       "179011             One Flew Over the Cuckoo's Nest (1975)  \n",
       "178722                   Manchurian Candidate, The (1962)  \n",
       "178742                                   Boot, Das (1981)  \n",
       "178091                              Secrets & Lies (1996)  \n",
       "\n",
       "[9430 rows x 4 columns]"
      ]
     },
     "execution_count": 27,
     "metadata": {},
     "output_type": "execute_result"
    }
   ],
   "source": [
    "# Adding a column containing the movie names\n",
    "SVD_recommended_movies_df['Movie_Name'] = SVD_recommended_movies_df['Reco_Movie_ID'].apply(lambda x : rid_to_name[x])\n",
    "\n",
    "# Inspecting the DataFrame\n",
    "SVD_recommended_movies_df"
   ]
  },
  {
   "cell_type": "code",
   "execution_count": 28,
   "metadata": {},
   "outputs": [
    {
     "data": {
      "text/plain": [
       "631960                                Close Shave, A (1995)\n",
       "632089    Wallace & Gromit: The Best of Aardman Animatio...\n",
       "631633                                    Casablanca (1942)\n",
       "631930                             Good Will Hunting (1997)\n",
       "632322                                  Citizen Kane (1941)\n",
       "631622                                Secrets & Lies (1996)\n",
       "631690                               Shall We Dance? (1996)\n",
       "631813    Dr. Strangelove or: How I Learned to Stop Worr...\n",
       "631815              Some Folks Call It a Sling Blade (1993)\n",
       "632512                                       Vertigo (1958)\n",
       "Name: Movie_Name, dtype: object"
      ]
     },
     "execution_count": 28,
     "metadata": {},
     "output_type": "execute_result"
    }
   ],
   "source": [
    "# Displaying what movies need to be recommended to the user with user ID 405\n",
    "SVD_recommended_movies_df[SVD_recommended_movies_df['User_ID'] == '405']['Movie_Name']"
   ]
  },
  {
   "cell_type": "code",
   "execution_count": 29,
   "metadata": {},
   "outputs": [
    {
     "data": {
      "text/plain": [
       "71258            Man Without a Face, The (1993)\n",
       "71023                        French Kiss (1995)\n",
       "70739                       Philadelphia (1993)\n",
       "70648                         Cinderella (1950)\n",
       "69953            Godfather: Part II, The (1974)\n",
       "31627              To Kill a Mockingbird (1962)\n",
       "32238                              Glory (1989)\n",
       "65791                   Another Stakeout (1993)\n",
       "78214    One Flew Over the Cuckoo's Nest (1975)\n",
       "74480    Snow White and the Seven Dwarfs (1937)\n",
       "Name: Movie_ID, dtype: object"
      ]
     },
     "execution_count": 29,
     "metadata": {},
     "output_type": "execute_result"
    }
   ],
   "source": [
    "# Displaying the highest rated 10 movies by user with user ID 405\n",
    "movielens_df[movielens_df['User_ID'] == '405'].sort_values('Ratings').tail(10)['Movie_ID'].apply(lambda x : rid_to_name[x])"
   ]
  }
 ],
 "metadata": {
  "kernelspec": {
   "display_name": "Python 3",
   "language": "python",
   "name": "python3"
  },
  "language_info": {
   "codemirror_mode": {
    "name": "ipython",
    "version": 3
   },
   "file_extension": ".py",
   "mimetype": "text/x-python",
   "name": "python",
   "nbconvert_exporter": "python",
   "pygments_lexer": "ipython3",
   "version": "3.7.6"
  }
 },
 "nbformat": 4,
 "nbformat_minor": 4
}
